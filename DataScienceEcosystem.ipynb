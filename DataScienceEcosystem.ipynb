{
  "metadata": {
    "kernelspec": {
      "name": "python",
      "display_name": "Python (Pyodide)",
      "language": "python"
    },
    "language_info": {
      "codemirror_mode": {
        "name": "python",
        "version": 3
      },
      "file_extension": ".py",
      "mimetype": "text/x-python",
      "name": "python",
      "nbconvert_exporter": "python",
      "pygments_lexer": "ipython3",
      "version": "3.8"
    }
  },
  "nbformat_minor": 4,
  "nbformat": 4,
  "cells": [
    {
      "cell_type": "markdown",
      "source": "# Data Science Tools and Ecosystem",
      "metadata": {}
    },
    {
      "cell_type": "markdown",
      "source": "### En este cuaderno, se resumen las herramientas y ecosistemas de ciencia de datos.",
      "metadata": {}
    },
    {
      "cell_type": "markdown",
      "source": "#### Algunos de los lenguajes populares que utilizan los científicos de datos son:\n- Python\n- Java\n- SQL",
      "metadata": {}
    },
    {
      "cell_type": "markdown",
      "source": "**Objetivos:**",
      "metadata": {}
    },
    {
      "cell_type": "markdown",
      "source": "- Lenguajes utilizados\n- Bibliotecas utilizadas\n- Ejercicios prácticos",
      "metadata": {}
    },
    {
      "cell_type": "markdown",
      "source": "#### Algunas de las bibliotecas comúnmente utilizadas por los científicos de datos incluyen:\n- NumPy\n- Pandas\n- Matplotlib",
      "metadata": {}
    },
    {
      "cell_type": "markdown",
      "source": "| Herramientas de Ciencia de Datos |\n| ------------------------ |\n| Jupyter Notebooks |\n| Pytorch |\n| MLFlow |",
      "metadata": {}
    },
    {
      "cell_type": "markdown",
      "source": "### A continuación, se presentan algunos ejemplos de evaluación de expresiones aritméticas en Python\n2+2",
      "metadata": {}
    },
    {
      "cell_type": "markdown",
      "source": "### Esta es una expresión aritmética simple para multiplicar y luego sumar enteros",
      "metadata": {}
    },
    {
      "cell_type": "code",
      "source": "(3*4)+5",
      "metadata": {
        "trusted": true
      },
      "outputs": [
        {
          "execution_count": 3,
          "output_type": "execute_result",
          "data": {
            "text/plain": "17"
          },
          "metadata": {}
        }
      ],
      "execution_count": 3
    },
    {
      "cell_type": "markdown",
      "source": "### Esto convertirá 200 minutos a horas dividiendo por 60",
      "metadata": {}
    },
    {
      "cell_type": "code",
      "source": "200/60",
      "metadata": {
        "trusted": true
      },
      "outputs": [
        {
          "execution_count": 4,
          "output_type": "execute_result",
          "data": {
            "text/plain": "3.3333333333333335"
          },
          "metadata": {}
        }
      ],
      "execution_count": 4
    },
    {
      "cell_type": "markdown",
      "source": "## Autor\n### P. Bolzmann",
      "metadata": {}
    },
    {
      "cell_type": "code",
      "source": "",
      "metadata": {
        "trusted": true
      },
      "outputs": [],
      "execution_count": null
    }
  ]
}